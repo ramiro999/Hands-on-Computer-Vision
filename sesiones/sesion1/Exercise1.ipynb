{
  "cells": [
    {
      "cell_type": "markdown",
      "metadata": {
        "id": "biK2H-MfIiar"
      },
      "source": [
        "# Sesion 1: Pilot\n",
        "\n",
        "<img src=\"https://raw.githubusercontent.com/semilleroCV/Hands-on-Computer-Vision/main/sesiones/sesion1/images/poster1.png\" alt=\"drawing\" width=\"300\"/>\n",
        "\n",
        "\n",
        "**IMPORTANTE**\n",
        "si realizas cambios en este notebook en colab es necesario que hagas commit antes de cerrar la pestaña, si no se perderan los cambios, porfavor, manten abierta la pestaña\n",
        "\n",
        "\n",
        "\n"
      ]
    },
    {
      "cell_type": "code",
      "execution_count": 5,
      "metadata": {
        "id": "urKcJDhQIiav"
      },
      "outputs": [],
      "source": [
        "# @title imports\n",
        "import matplotlib.pyplot as plt\n",
        "import numpy as np\n",
        "import requests\n",
        "from PIL import Image\n",
        "from transformers import pipeline"
      ]
    },
    {
      "cell_type": "code",
      "execution_count": 6,
      "metadata": {
        "id": "FG-Qc7_mIiaw"
      },
      "outputs": [],
      "source": [
        "# @title Rellena estos campos\n",
        "nombre = \"\" # @param {type:\"string\"}\n",
        "codigo = \"\" # @param {type:\"string\"}"
      ]
    },
    {
      "cell_type": "code",
      "execution_count": null,
      "metadata": {
        "id": "W7NQKmKMIuCo"
      },
      "outputs": [],
      "source": [
        "# @title cargar imagen\n",
        "url1 = \"https://raw.githubusercontent.com/semilleroCV/Hands-on-Computer-Vision/main/sesiones/sesion1/images/perro.jpg\"\n",
        "\n",
        "url2 = \"https://assets.elanco.com/8e0bf1c2-1ae4-001f-9257-f2be3c683fb1/fca42f04-2474-4302-a238-990c8aebfe8c/Siamese_cat_1110x740.jpg?w=3840&q=75&auto=format\"\n",
        "# puedes poner urls de internet!\n",
        "\n",
        "img1 = Image.open(requests.get(url1, stream=True).raw)\n",
        "img2 = Image.open(requests.get(url2, stream=True).raw)\n",
        "\n",
        "\n",
        "plt.subplot(1, 2, 1)\n",
        "plt.imshow(img1)\n",
        "plt.axis(\"off\")\n",
        "\n",
        "plt.subplot(1, 2, 2)\n",
        "plt.imshow(img2)\n",
        "plt.axis(\"off\")\n",
        "\n",
        "plt.show()"
      ]
    },
    {
      "cell_type": "code",
      "source": [
        "# @title clasificar imagen\n",
        "classifier = pipeline('image-classification')\n",
        "result1 = classifier(url1)\n",
        "result2 = classifier(url2)\n",
        "\n",
        "print(f\"\\n **La imagen es un: {result1[0]['label']}** \")\n",
        "print(f\"\\n **La imagen es un: {result2[0]['label']}** \")"
      ],
      "metadata": {
        "id": "BKnc3cQ_rp7o"
      },
      "execution_count": null,
      "outputs": []
    },
    {
      "cell_type": "markdown",
      "metadata": {
        "id": "eeY0725tMhxm"
      },
      "source": [
        "## Guarda tus cambios en el repositorio\n",
        "\n",
        "todos tus cambios se guardan en tu repostorio que esta ligado a tu cuenta en github, asi podras llevar un registro a lo largo del tiempo de lo que has hecho\n",
        "\n",
        "**para realizarlo es necesario hacer lo siguientes pasos:**\n",
        "\n",
        "\n",
        "\n",
        "1. En la barra de herramientas selecciona file o archivo y dale en la opcion **Save a copy in github**\n",
        "\n",
        "\n",
        "![step1](https://raw.githubusercontent.com/semilleroCV/Hands-on-Computer-Vision/main/sesiones/sesion1/images/step1.png\n",
        ")\n",
        "\n",
        "\n",
        "2. Se te mostrara el siguiente menu, en el que debes checkear el repositorio y poner un mensaje de los cambios que hiciste, puedes poner algo como: *mi primer commit*\n",
        "\n",
        "![step1](https://raw.githubusercontent.com/semilleroCV/Hands-on-Computer-Vision/main/sesiones/sesion1/images/step2.png\n",
        ")\n",
        "\n",
        "3. Al darle en ok, se te guardaran los cambios\n",
        "\n",
        "**IMPORTANTE**\n",
        "\n",
        "es necesario que revises si cambios se guardaron correctamente en tu github\n"
      ]
    }
  ],
  "metadata": {
    "colab": {
      "provenance": []
    },
    "kernelspec": {
      "display_name": "Python 3",
      "name": "python3"
    },
    "language_info": {
      "name": "python",
      "version": "3.10.12"
    }
  },
  "nbformat": 4,
  "nbformat_minor": 0
}